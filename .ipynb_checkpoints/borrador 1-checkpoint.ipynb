{
 "cells": [
  {
   "cell_type": "markdown",
   "metadata": {},
   "source": [
    "# Optimización mano de obra"
   ]
  },
  {
   "cell_type": "markdown",
   "metadata": {},
   "source": [
    "## integrantes:"
   ]
  },
  {
   "cell_type": "markdown",
   "metadata": {},
   "source": [
    "+ Integrante 1: Angel Leyva Trejo\n",
    "+ Integrante 2: Felipe Neri Mendoza González\n",
    "+ Integrante 3: Gabriel Salazar Rámirez"
   ]
  },
  {
   "cell_type": "markdown",
   "metadata": {},
   "source": [
    "## Objetivos\n",
    "\n",
    "Determinar la distribución de empleados mas optima para un despacho de ingenieros en base a las consideraciones requeridas, minimazando los costos de contratación y apoyando el desarrollo profesional de los empleados mediante capacitaciones y crecimiento en el despacho"
   ]
  },
  {
   "cell_type": "markdown",
   "metadata": {},
   "source": [
    "## Objetivos específicos \n",
    "\n",
    "+ Encontrar la cantidad de dibujantes, calculistas y ingenieros de planta necesarios para realizar las operaciones dentro del despacho.\n",
    "+ minimizar los gastos de operación evitando la sobrecontratación.\n",
    "+ Buscar el crecimineto de los empleados mediante ascensos sin descuidar las contrataciones.\n"
   ]
  },
  {
   "cell_type": "code",
   "execution_count": null,
   "metadata": {},
   "outputs": [],
   "source": []
  }
 ],
 "metadata": {
  "kernelspec": {
   "display_name": "Python 3",
   "language": "python",
   "name": "python3"
  },
  "language_info": {
   "codemirror_mode": {
    "name": "ipython",
    "version": 3
   },
   "file_extension": ".py",
   "mimetype": "text/x-python",
   "name": "python",
   "nbconvert_exporter": "python",
   "pygments_lexer": "ipython3",
   "version": "3.7.3"
  }
 },
 "nbformat": 4,
 "nbformat_minor": 2
}
