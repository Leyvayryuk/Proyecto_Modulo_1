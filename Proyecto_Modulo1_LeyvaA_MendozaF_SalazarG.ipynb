{
 "cells": [
  {
   "cell_type": "markdown",
   "metadata": {},
   "source": [
    "# Optimización mano de obra"
   ]
  },
  {
   "cell_type": "markdown",
   "metadata": {},
   "source": [
    "## integrantes:"
   ]
  },
  {
   "cell_type": "markdown",
   "metadata": {},
   "source": [
    "+ Integrante 1: Angel Leyva Trejo\n",
    "+ Integrante 2: Felipe Neri Mendoza González\n",
    "+ Integrante 3: Gabriel Salazar Rámirez"
   ]
  },
  {
   "cell_type": "markdown",
   "metadata": {},
   "source": [
    "## Objetivos\n",
    "\n",
    "Determinar la distribución de empleados mas optima para un despacho de ingenieros en base a las consideraciones requeridas, minimazando los costos de contratación y apoyando el desarrollo profesional de los empleados mediante capacitaciones y crecimiento en el despacho"
   ]
  },
  {
   "cell_type": "markdown",
   "metadata": {},
   "source": [
    "## Objetivos específicos \n",
    "\n",
    "+ Encontrar la cantidad de dibujantes, calculistas y ingenieros de planta necesarios para realizar las operaciones dentro del despacho.\n",
    "+ minimizar los gastos de operación evitando la sobrecontratación.\n",
    "+ Buscar el crecimineto de los empleados mediante ascensos sin descuidar las contrataciones."
   ]
  },
  {
   "cell_type": "code",
   "execution_count": 38,
   "metadata": {},
   "outputs": [],
   "source": [
    "import numpy as np\n",
    "import matplotlib.pyplot as plt\n",
    "import scipy.optimize as opt"
   ]
  },
  {
   "cell_type": "markdown",
   "metadata": {},
   "source": [
    "**Definimos variables**\n",
    "- $x_1$: número de maestros contratados en año i\n",
    "- $x_2$: número de albañiles contratados en año i\n",
    "- $x_3$: número de chalanes contratados en año i\n",
    "- $x_4$: número de maestros reclutados en año i\n",
    "- $x_5$: número de albañiles reclutados en año i\n",
    "- $x_6$: número de chalanes reclutados en año i\n",
    "- $x_7$: número de chalanes entrenados para albañiles en año i\n",
    "- $x_8$: número de albañiles entrenados para maestros en año i\n",
    "- $x_9$: número de maestros que descendieron a albañiles en año i\n",
    "- $x_10$: número de maestros que descendieron a chalanes en año i\n",
    "- $x_11$: número de albañiles que descendieron a chalanes en año i\n",
    "- $x_12$: número de maestros redundantes en año i\n",
    "- $x_13$: número de albañiles redundantes en año i\n",
    "- $x_14$: número de chalanes redundantes en año i\n",
    "- $x_15$: número de maestros que renunciaron en año i\n",
    "- $x_16$: número de albañiles que renunciaron en año i\n",
    "- $x_17$: número de chalanes que renunciaron en año i\n",
    "- $x_18$: número de maestros de sobra en año i\n",
    "- $x_19$: número de albañiles de sobra en año i\n",
    "- $x_110$: número de chalanes de sobra en año i\n"
   ]
  },
  {
   "cell_type": "markdown",
   "metadata": {},
   "source": [
    "**Definir funciones de restricción**\n",
    " + $x_1$= (0.95$x_1$+0.90$x_4$+0.95$x_8$-$x_9$-$x_1 0$-$x_1 2$)\n",
    " + $x_2$= (0.95$x_2$+0.80$x_5$+0.95$x_7$-$x_8$-0.50$x_9$-$x_1 1$-$x_1 3$)\n",
    " + $x_3$= (0.90$x_3$+0.75$x_7$-$x_1 0$+0.50$x_1 1$-$x_1 4$)\n",
    " + $x_8$-0.25$x_1$<=0\n",
    " + $x_1 8$+$x_1 9$+$x_1 10$<=150\n",
    " + $x_1$-$-x_1 8$-0.5$x_1 5$=1000\n",
    " + $x_2$-$x_1 9$-0.5$x_1 6$=1400\n",
    " + $x_3$-$x_1 10$-0.5$x_1 7$=1000\n",
    " + $x_4$<=500\n",
    " + $x_5$<=800\n",
    " + $x_6$<=500\n",
    " + $x_1 5$<=50\n",
    " + $x_1 6$<=50\n",
    " + $x_1 7$<=50\n",
    " + $x_5$<=200"
   ]
  },
  {
   "cell_type": "markdown",
   "metadata": {},
   "source": [
    "**Definir función para minimizar redundancia**\n",
    "+ $x_1 2$+$x_1 3$+$x_1 4$"
   ]
  },
  {
   "cell_type": "markdown",
   "metadata": {},
   "source": [
    "**Definir función para minimizar costo**\n",
    "+ 400$x_7$+500$x_8$+200$x_1 4$+500$x_1 3$+500$x_1 2$+500$x_1 7$+400$x_1 6$+1500$x_1 10$+2000$x_1 9$+3000$x_1 8$"
   ]
  },
  {
   "cell_type": "code",
   "execution_count": 36,
   "metadata": {},
   "outputs": [
    {
     "data": {
      "text/plain": [
       "     con: array([], dtype=float64)\n",
       "     fun: 1417500.0\n",
       " message: \"Phase 1 of the simplex method failed to find a feasible solution. The pseudo-objective function evaluates to 6.7e+02 which exceeds the required tolerance of 1e-12 for a solution to be considered 'close enough' to zero to be a basic solution. Consider increasing the tolerance to be greater than 6.7e+02. If this tolerance is unacceptably  large the problem may be infeasible.\"\n",
       "     nit: 16\n",
       "   slack: array([   0.  ,    0.  , -668.75,  250.  ,  387.5 ,    0.  ])\n",
       "  status: 2\n",
       " success: False\n",
       "       x: array([200., 375., 150., 375., 375., 375., 375., 375.,  50.,  50.,  50.])"
      ]
     },
     "execution_count": 36,
     "metadata": {},
     "output_type": "execute_result"
    }
   ],
   "source": [
    "A=np.array(([1,1,0,0,0,0,0,0,0,0,0],[0,0,1,1,1,0,0,0,0,0,0],[0,0,0,0,0,0,0,-.75,-1,0,0],[0,0,0,0,0,0,-.8,0,0,-1,0],[0,0,0,0,0,-.9,0,0,0,0,-1],[0,0,0,0,0,0,0,0,1,1,1]))\n",
    "\n",
    "c=np.array(([400,500,500,500,200,400,400,500,3000,2000,1500])) \n",
    "b=(([575,900,-1000,-100,0,150]))\n",
    "        \n",
    "resultado=opt.linprog(c,A_ub=A,b_ub=b,bounds=(50,375))\n",
    "resultado"
   ]
  },
  {
   "cell_type": "code",
   "execution_count": null,
   "metadata": {},
   "outputs": [],
   "source": []
  }
 ],
 "metadata": {
  "kernelspec": {
   "display_name": "Python 3",
   "language": "python",
   "name": "python3"
  },
  "language_info": {
   "codemirror_mode": {
    "name": "ipython",
    "version": 3
   },
   "file_extension": ".py",
   "mimetype": "text/x-python",
   "name": "python",
   "nbconvert_exporter": "python",
   "pygments_lexer": "ipython3",
   "version": "3.7.3"
  }
 },
 "nbformat": 4,
 "nbformat_minor": 2
}
